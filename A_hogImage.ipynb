{
 "cells": [
  {
   "cell_type": "code",
   "execution_count": 2,
   "metadata": {},
   "outputs": [],
   "source": [
    "import skimage\n",
    "from skimage.io import imread , imshow\n",
    "from skimage.transform import resize\n",
    "from skimage.feature import hog\n",
    "from skimage import exposure\n",
    "import matplotlib.pyplot as plt\n",
    "import numpy as np\n",
    "import pandas as pd\n",
    "import matplotlib.pyplot as plt\n",
    "import os\n",
    "import cv2\n",
    "import torch"
   ]
  },
  {
   "cell_type": "code",
   "execution_count": 3,
   "metadata": {},
   "outputs": [],
   "source": [
    "train_path =r'D:\\STUDY\\DS250\\1b\\fruits-360-original-size\\fruits-360-original-size\\Training'\n",
    "list_labels = os.listdir(train_path)\n",
    "directory= r'D:\\STUDY\\DS250\\prot_hog'"
   ]
  },
  {
   "cell_type": "code",
   "execution_count": 10,
   "metadata": {},
   "outputs": [
    {
     "name": "stdout",
     "output_type": "stream",
     "text": [
      "315\n",
      "320\n",
      "318\n",
      "308\n",
      "308\n",
      "316\n",
      "320\n",
      "468\n",
      "313\n",
      "309\n",
      "318\n",
      "281\n",
      "300\n",
      "308\n",
      "319\n",
      "96\n",
      "101\n",
      "100\n",
      "163\n",
      "160\n",
      "326\n",
      "144\n",
      "160\n",
      "160\n"
     ]
    }
   ],
   "source": [
    "for item in list_labels:\n",
    "\n",
    "    item_path = train_path +\"\\\\\"+ item\n",
    "    count=0\n",
    "    sum_img =  np.zeros(shape=(128,64))\n",
    "    #sum_img = sum_img.astype('int32')\n",
    "    img_set = os.listdir(item_path)\n",
    "    print(len(img_set))\n",
    "    for img in img_set:\n",
    "        img_array = imread(os.path.join(item_path,img))\n",
    "        resize_img = resize(img_array,(128,64))\n",
    "        fd,hog_image = hog(resize_img,orientations=9, pixels_per_cell=(8,8),\n",
    "                        cells_per_block=(2,2),visualize=True,multichannel=True)\n",
    "        sum_img = sum_img + hog_image\n",
    "\n",
    "    avg_hog_img = sum_img/len(img_set)\n",
    "    os.chdir(directory)\n",
    "    cv2.imwrite(item+\".jpg\",avg_hog_img)"
   ]
  },
  {
   "cell_type": "code",
   "execution_count": 32,
   "metadata": {},
   "outputs": [],
   "source": [
    "test_path = r'D:\\STUDY\\DS250\\1b\\fruits-360-original-size\\fruits-360-original-size\\Test'\n",
    "prototypes = r'D:\\STUDY\\DS250\\prot_nodes'\n",
    "list_labels = os.listdir(test_path)\n",
    "correct = dict()"
   ]
  },
  {
   "cell_type": "code",
   "execution_count": 33,
   "metadata": {},
   "outputs": [
    {
     "name": "stderr",
     "output_type": "stream",
     "text": [
      "C:\\Users\\siddh\\AppData\\Local\\Programs\\Python\\Python39\\lib\\site-packages\\skimage\\_shared\\utils.py:338: FutureWarning: `multichannel` is a deprecated argument name for `hog`. It will be removed in version 1.0.Please use `channel_axis` instead.\n",
      "  return func(*args, **kwargs)\n"
     ]
    },
    {
     "name": "stdout",
     "output_type": "stream",
     "text": [
      "[133, 157]\n",
      "[95, 160]\n",
      "[127, 159]\n",
      "[40, 154]\n",
      "[79, 154]\n",
      "[65, 158]\n",
      "[79, 160]\n",
      "[196, 234]\n",
      "[97, 156]\n",
      "[78, 154]\n",
      "[112, 159]\n",
      "[31, 140]\n",
      "[91, 150]\n",
      "[56, 154]\n",
      "[146, 159]\n",
      "[47, 47]\n",
      "[50, 50]\n",
      "[49, 50]\n",
      "[43, 81]\n",
      "[77, 80]\n",
      "[107, 162]\n",
      "[72, 72]\n",
      "[80, 80]\n",
      "[54, 80]\n"
     ]
    }
   ],
   "source": [
    "for items in list_labels:\n",
    "    correct[items] = 0\n",
    "    item_path = test_path +\"\\\\\"+ items\n",
    "    img_set = os.listdir(item_path)\n",
    "\n",
    "\n",
    "    for img in img_set:\n",
    "        img_array = cv2.imread(os.path.join(item_path,img))\n",
    "        img_size = resize(img_array,(128,64))\n",
    "        compare = np.zeros(shape=(128,64))\n",
    "        fd2,hog_image2 = hog(img_size,orientations=9, pixels_per_cell=(8,8),\n",
    "                        cells_per_block=(2,2),visualize=True,multichannel=True)\n",
    "        list_nodes = os.listdir(prototypes)\n",
    "        t=0\n",
    "        min2 = np.zeros(shape=(128,64))\n",
    "        count = 0\n",
    "        for i in range(len(list_nodes)):\n",
    "            prototype = imread(os.path.join(prototypes,list_nodes[i]))\n",
    "            prototype1 = resize(prototype,(128,64))\n",
    "            fd2,hog_prot =hog(prototype1,orientations=9, pixels_per_cell=(8,8),\n",
    "                        cells_per_block=(2,2),visualize=True,multichannel=True)\n",
    "            #print(fd)\n",
    "            #plt.imshow(hog_prot)\n",
    "            #plt.show()\n",
    "            \n",
    "            #compare = abs(img_size - prototype)\n",
    "            err = np.sum((hog_image2.astype(\"float\") - hog_prot.astype(\"float\")) ** 2)\n",
    "\t        #err /= float(prototype1.shape[0] * prototype1.shape[1])\n",
    "            err /= float(hog_prot.shape[0] * hog_prot.shape[1])\n",
    "            if count == 0 :\n",
    "                count = err\n",
    "                #count+=1\n",
    "            elif count>err:\n",
    "                count = err\n",
    "                t=i\n",
    "        \n",
    "        if list_nodes[t][0:-4] == items:\n",
    "            correct[items]+=1\n",
    "    \n",
    "    correct[items]=[correct[items],len(img_set)] \n",
    "    print(correct[items])\n"
   ]
  },
  {
   "cell_type": "code",
   "execution_count": 34,
   "metadata": {},
   "outputs": [
    {
     "name": "stdout",
     "output_type": "stream",
     "text": [
      "1296\n",
      "3110\n",
      "0.41672025723472667\n"
     ]
    }
   ],
   "source": [
    "length = 0\n",
    "correctness = 0\n",
    "for keys in correct:\n",
    "    correctness += correct[items][0]\n",
    "    length +=correct[keys][1]     \n",
    "accuracy = correctness/length\n",
    "print(correctness)\n",
    "print(length)\n",
    "print(accuracy)"
   ]
  },
  {
   "cell_type": "code",
   "execution_count": null,
   "metadata": {},
   "outputs": [],
   "source": []
  },
  {
   "cell_type": "markdown",
   "metadata": {},
   "source": []
  },
  {
   "cell_type": "code",
   "execution_count": null,
   "metadata": {},
   "outputs": [],
   "source": []
  },
  {
   "cell_type": "code",
   "execution_count": null,
   "metadata": {},
   "outputs": [],
   "source": []
  },
  {
   "cell_type": "code",
   "execution_count": null,
   "metadata": {},
   "outputs": [],
   "source": []
  },
  {
   "cell_type": "code",
   "execution_count": null,
   "metadata": {},
   "outputs": [],
   "source": []
  },
  {
   "cell_type": "code",
   "execution_count": null,
   "metadata": {},
   "outputs": [],
   "source": []
  },
  {
   "cell_type": "code",
   "execution_count": null,
   "metadata": {},
   "outputs": [],
   "source": []
  },
  {
   "cell_type": "code",
   "execution_count": null,
   "metadata": {},
   "outputs": [],
   "source": []
  }
 ],
 "metadata": {
  "interpreter": {
   "hash": "ef1e3fed4a6e217454534c37f254ab88363483cd24628bc396e034846efc80a1"
  },
  "kernelspec": {
   "display_name": "Python 3.9.3 64-bit",
   "language": "python",
   "name": "python3"
  },
  "language_info": {
   "codemirror_mode": {
    "name": "ipython",
    "version": 3
   },
   "file_extension": ".py",
   "mimetype": "text/x-python",
   "name": "python",
   "nbconvert_exporter": "python",
   "pygments_lexer": "ipython3",
   "version": "3.9.3"
  },
  "orig_nbformat": 4
 },
 "nbformat": 4,
 "nbformat_minor": 2
}
